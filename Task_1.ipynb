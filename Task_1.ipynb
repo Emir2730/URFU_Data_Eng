{
 "cells": [
  {
   "cell_type": "code",
   "execution_count": 1,
   "id": "739617ec",
   "metadata": {},
   "outputs": [],
   "source": [
    "# Исследовать структуру html-файлов, чтобы произвести парсинг всех данных. \n",
    "# В каждом файле содержится информация об одном объекте из случайной предметной области. \n",
    "# Полученные данные собрать и записать в json. \n",
    "# Выполните также ряд операций с данными:\n",
    "# 1) отсортируйте значения по одному из доступных полей\n",
    "# 2) выполните фильтрацию по другому полю (запишите результат отдельно)\n",
    "# 3) для одного выбранного числового поля посчитайте статистические характеристики (сумма, мин/макс, среднее и т.д.)\n",
    "# 4) для одного текстового поля посчитайте частоту меток"
   ]
  },
  {
   "cell_type": "code",
   "execution_count": 1,
   "id": "b74269a5",
   "metadata": {},
   "outputs": [],
   "source": [
    "from bs4 import BeautifulSoup\n",
    "import re\n",
    "import json\n",
    "import math\n",
    "import collections\n",
    "import pandas as pd"
   ]
  },
  {
   "cell_type": "code",
   "execution_count": 2,
   "id": "0b8d2988",
   "metadata": {},
   "outputs": [],
   "source": [
    "def handle_file(file_name):\n",
    "    with open(file_name, encoding = 'utf-8') as file:\n",
    "        text = \"\"\n",
    "        for row in file.readlines():\n",
    "            text += row\n",
    "        item = dict()\n",
    "        site = BeautifulSoup(text, 'html.parser')\n",
    "        \n",
    "        # print(site.prettify())\n",
    "        item['category'] = site.find_all(\"span\", string = re.compile('Категория:'))[0].get_text().split(':')[1].strip()\n",
    "        item['title'] = site.find_all('h1')[0].get_text().strip()\n",
    "        item['author'] = site.find_all(\"p\", attrs = {'class' : 'author-p'})[0].get_text().strip()\n",
    "        item['pages'] = int(site.find_all(\"span\", attrs = {'class' : 'pages'})[0].get_text().split(':')[1].replace(\" страниц\", \"\").strip())\n",
    "        item['year'] = int(site.find_all('span', attrs = {'class': 'year'})[0].get_text().replace(\"Издано в \", \"\").strip())\n",
    "        item['ISBN'] = site.find_all('span', string = re.compile('ISBN'))[0].get_text(). split(':')[1].strip()\n",
    "        item['description'] = site.find_all(\"p\")[1].get_text().replace(\"Описание \\n\", \"\").strip()\n",
    "        item['img'] = site.find_all('img')[0]['src']\n",
    "        item['rate'] = float(site.find_all('span', string = re.compile('Рейтинг:'))[0].get_text().split(':')[1].strip())\n",
    "        item['views'] = int(site.find_all('span', string = re.compile('Просмотры:'))[0].get_text().split(':')[1].strip())\n",
    "        return item"
   ]
  },
  {
   "cell_type": "code",
   "execution_count": 3,
   "id": "92617e67",
   "metadata": {},
   "outputs": [
    {
     "name": "stdout",
     "output_type": "stream",
     "text": [
      "[{'category': 'фэнтези', 'title': 'Великий Гэтсби', 'author': 'Джозеф Конрад', 'pages': 108, 'year': 1869, 'ISBN': '792-5260761137', 'description': 'Описание\\n     middle', 'img': 'https://upload.freebook.xyz/718947.jpeg', 'rate': 4.5, 'views': 38845}]\n"
     ]
    }
   ],
   "source": [
    "items = []\n",
    "for i in range(1,1000):\n",
    "  file_name = f'./1/{i}.html'\n",
    "  result = handle_file(file_name)\n",
    "  items.append(result)\n",
    "print(items[1:2])"
   ]
  },
  {
   "cell_type": "code",
   "execution_count": 4,
   "id": "17388ee5",
   "metadata": {},
   "outputs": [],
   "source": [
    "with open('result_all_63_1.json', 'w', encoding = 'utf-8') as f:\n",
    "    f.write(json.dumps(items, ensure_ascii=False))"
   ]
  },
  {
   "cell_type": "markdown",
   "id": "68b48d56",
   "metadata": {},
   "source": [
    "Отсортируeм значения по полю ['year'] в убывающем порядке:"
   ]
  },
  {
   "cell_type": "code",
   "execution_count": 5,
   "id": "24c288d5",
   "metadata": {},
   "outputs": [
    {
     "name": "stdout",
     "output_type": "stream",
     "text": [
      "[{'category': 'исторический роман', 'title': 'Лев, колдунья и платяной шкаф', 'author': 'Тед Хьюз', 'pages': 383, 'year': 2023, 'ISBN': '482-7986769437', 'description': 'Описание\\n     write it yourself', 'img': 'https://upload.booook.ru/273008.jpeg', 'rate': 3.3, 'views': 30128}, {'category': 'фэнтези', 'title': 'Портрет Дориана Грея', 'author': 'Патрик Зюскинд', 'pages': 322, 'year': 2022, 'ISBN': '778-8939592605', 'description': 'Описаниеsmall', 'img': 'https://upload.freebook.xyz/95659.png', 'rate': 2.8, 'views': 48880}, {'category': 'приключения', 'title': '20 000 лье под водой', 'author': 'Станислав Лем', 'pages': 121, 'year': 2022, 'ISBN': '598-3645209478', 'description': 'Описаниеwrite it yourself', 'img': 'https://upload.abc-book.it/604859.jpg', 'rate': 2.0, 'views': 27691}, {'category': 'детская литература', 'title': 'О дивный новый мир', 'author': 'Марк Твен', 'pages': 241, 'year': 2022, 'ISBN': '595-6864703051', 'description': 'Описаниеmiddle', 'img': 'https://upload.abc-book.it/225164.webp', 'rate': 1.5, 'views': 27941}]\n"
     ]
    }
   ],
   "source": [
    "items = sorted(items, key = lambda x: x['year'], reverse = True)\n",
    "print(items[1:5])"
   ]
  },
  {
   "cell_type": "markdown",
   "id": "5a749b42",
   "metadata": {},
   "source": [
    "Выполним фильтрацию по полю ['author'] = 'Фрэнсис Скотт Фицджеральд':"
   ]
  },
  {
   "cell_type": "code",
   "execution_count": 6,
   "id": "97a521e8",
   "metadata": {},
   "outputs": [
    {
     "name": "stdout",
     "output_type": "stream",
     "text": [
      "[{'category': 'роман', 'title': 'Заводной апельсин', 'author': 'Фрэнсис Скотт Фицджеральд', 'pages': 204, 'year': 1981, 'ISBN': '720-5028495410', 'description': 'Описаниеvery impressive', 'img': 'https://upload.book.com/280850.jpg', 'rate': 1.0, 'views': 81487}, {'category': 'научная фантастика', 'title': 'Американские горки', 'author': 'Фрэнсис Скотт Фицджеральд', 'pages': 337, 'year': 1970, 'ISBN': '385-9948804752', 'description': 'Описание\\n     description', 'img': 'https://upload.book.com/570367.jpg', 'rate': 1.3, 'views': 20649}, {'category': 'приключения', 'title': 'Трудно быть богом', 'author': 'Фрэнсис Скотт Фицджеральд', 'pages': 371, 'year': 1964, 'ISBN': '168-9608476516', 'description': 'Описаниеmiddle', 'img': 'https://upload.buybook.org/208343.jpeg', 'rate': 5.0, 'views': 35271}, {'category': 'фэнтези', 'title': 'Звездная пыль', 'author': 'Фрэнсис Скотт Фицджеральд', 'pages': 449, 'year': 1959, 'ISBN': '252-4293258910', 'description': 'Описаниеdescription', 'img': 'https://upload.freebook.xyz/501638.jpeg', 'rate': 3.1, 'views': 93524}, {'category': 'роман', 'title': 'Идиот', 'author': 'Фрэнсис Скотт Фицджеральд', 'pages': 258, 'year': 1959, 'ISBN': '713-7426001196', 'description': 'Описание\\n     description', 'img': 'https://upload.abc-book.it/272711.jpeg', 'rate': 2.0, 'views': 47483}]\n"
     ]
    }
   ],
   "source": [
    "filtered_items = []\n",
    "for book in items:\n",
    "    if book['author'] == 'Фрэнсис Скотт Фицджеральд':\n",
    "        filtered_items.append(book)\n",
    "print(filtered_items[1:6])        "
   ]
  },
  {
   "cell_type": "code",
   "execution_count": 7,
   "id": "6252d978",
   "metadata": {},
   "outputs": [],
   "source": [
    "with open(\"result_filtered_63_1.json\", \"w\", encoding = 'utf-8') as file:\n",
    "    file.write(json.dumps(filtered_items, ensure_ascii=False))"
   ]
  },
  {
   "cell_type": "markdown",
   "id": "475d8004",
   "metadata": {},
   "source": [
    "для числового поля ['pages'] посчитаем статистические характеристики (сумма, мин/макс, среднее и т.д.)"
   ]
  },
  {
   "cell_type": "code",
   "execution_count": 8,
   "id": "824f8793",
   "metadata": {},
   "outputs": [
    {
     "name": "stdout",
     "output_type": "stream",
     "text": [
      "[{'max': 500.0, 'min': 100.0, 'mean': 300.2762762762763, 'median': 303.0, 'std': 115.63655725806075}]\n"
     ]
    }
   ],
   "source": [
    "stats_items = []\n",
    "df = pd.DataFrame(items)\n",
    "pd.set_option('display.float_format', '{:.1f}'.format)\n",
    "stats = df['pages'].agg(['max', 'min', 'mean', 'median', 'std']).to_dict()\n",
    "stats_items.append(stats)\n",
    "print(stats_items)"
   ]
  },
  {
   "cell_type": "markdown",
   "id": "79824b5c",
   "metadata": {},
   "source": [
    "для текстового поля ['title'] посчитайте частоту меток"
   ]
  },
  {
   "cell_type": "code",
   "execution_count": 9,
   "id": "28b77e81",
   "metadata": {},
   "outputs": [
    {
     "name": "stdout",
     "output_type": "stream",
     "text": [
      "[Counter({'Гроздья гнева': 22, 'Женщина в песках': 20, 'Скотный двор': 20, 'Сумерки': 18, 'Черный дом': 18, 'Ярмарка тщеславия': 17, 'Бойня номер пять, или Крестовый поход детей': 17, 'Плавучий трава': 17, 'Зеленая миля': 16, 'Бесконечная история': 16, 'Франкенштейн': 16, 'Процесс': 15, 'Идиот': 15, 'Лев, колдунья и платяной шкаф': 14, 'Солярис': 14, 'Слепота': 14, 'Твин Пикс: Воспоминания специального агента ФБР Дейла Купера': 14, 'Прощай, оружие': 14, 'Котлован': 14, 'Алхимик': 14, 'Портрет Дориана Грея': 13, 'Трудно быть богом': 13, 'Повелитель мух': 13, 'Сто лет одиночества': 13, 'Граф Монте-Кристо': 13, 'Эпоха невинности': 13, 'Звездная пыль': 13, 'Страх и отвращение в Лас-Вегасе': 13, 'Ребекка': 13, 'О дивный новый мир': 12, 'Волхв': 12, '451 градус по Фаренгейту': 12, 'Под стеклянным колпаком': 12, 'Гордость и предубеждение': 12, 'По направлению к сваолу': 12, 'Хроники Нарнии': 12, 'Гарри Поттер и Философский камень': 12, 'Имя розы': 12, 'Оно': 12, 'Убить пересмешника': 12, 'Великий Гэтсби': 12, 'Мастер и Маргарита': 11, 'Преступление и наказание': 11, 'Американские горки': 11, 'Падение дома Ашеров': 11, 'Старик и море': 11, 'Молот ведьм': 11, 'Бегущий по лезвию': 11, 'Три товарища': 11, 'Бухта Эсмеральда': 11, 'Осиная фабрика': 11, 'На игле': 11, 'Планета обезьян': 11, 'Лолита': 11, '20 000 лье под водой': 10, 'Дюна': 10, 'Белый шум': 10, 'Рассказ мертвецов': 10, 'Фауст': 10, 'Вещие сестрички': 10, 'Заводной апельсин': 10, 'Город призраков': 10, 'Автостопом по галактике': 10, 'Цветы для Элджернона': 9, 'Маленький принц': 9, 'Недовольство культурой': 9, 'Божество реки': 9, 'Исчезнувшая': 9, '1984': 9, 'Большие надежды': 9, 'Неукротимый': 8, 'Война и мир': 8, 'Свет в лесу': 8, 'Человек-невидимка': 8, 'В дороге': 8, 'Сквозь время': 8, 'Мертвые души': 8, 'Темная башня': 7, 'Дракула': 7, 'Ночная стража': 7, 'Возвращение в Брайдсхед': 7, 'Колыбель для кошки': 7, 'Аутсайдеры': 6, 'Двенадцать стульев': 5, 'Приключения Гекльберри Финна': 5, 'Ватек': 5, 'Кандида': 5})]\n"
     ]
    }
   ],
   "source": [
    "text_items = []\n",
    "text = [item['title'] for item in items]\n",
    "f1 = collections.Counter(text)\n",
    "text_items.append(f1)\n",
    "print(text_items)"
   ]
  },
  {
   "cell_type": "code",
   "execution_count": null,
   "id": "cf808cbc",
   "metadata": {},
   "outputs": [],
   "source": []
  }
 ],
 "metadata": {
  "kernelspec": {
   "display_name": "Python 3 (ipykernel)",
   "language": "python",
   "name": "python3"
  },
  "language_info": {
   "codemirror_mode": {
    "name": "ipython",
    "version": 3
   },
   "file_extension": ".py",
   "mimetype": "text/x-python",
   "name": "python",
   "nbconvert_exporter": "python",
   "pygments_lexer": "ipython3",
   "version": "3.9.13"
  }
 },
 "nbformat": 4,
 "nbformat_minor": 5
}
