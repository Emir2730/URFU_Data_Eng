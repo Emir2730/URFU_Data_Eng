{
 "cells": [
  {
   "cell_type": "code",
   "execution_count": 1,
   "id": "d6c3b812",
   "metadata": {},
   "outputs": [],
   "source": [
    "# Дан файл с некоторыми данными. Формат файла – произвольный. \n",
    "# Данные некоторым образом связаны с теми, что были добавлены в первом задании. \n",
    "# Необходимо проанализировать и установить связь между таблицами. \n",
    "# Создать таблицу и наполнить ее прочитанными данными из файла. \n",
    "# Реализовать и выполнить 3 запроса, где используется связь между таблицами."
   ]
  },
  {
   "cell_type": "code",
   "execution_count": 27,
   "id": "4c2ec72c",
   "metadata": {},
   "outputs": [],
   "source": [
    "import pandas as pd\n",
    "import sqlite3\n",
    "import pickle\n",
    "import json"
   ]
  },
  {
   "cell_type": "code",
   "execution_count": 28,
   "id": "e95dfaa1",
   "metadata": {},
   "outputs": [
    {
     "data": {
      "text/plain": [
       "[{'name': 'Мемориал Таля 1979', 'place': 7, 'prise': 15625},\n",
       " {'name': 'Гашиш 2004', 'place': 13, 'prise': 5005},\n",
       " {'name': 'Вена 1966', 'place': 2, 'prise': 11750000}]"
      ]
     },
     "execution_count": 28,
     "metadata": {},
     "output_type": "execute_result"
    }
   ],
   "source": [
    "with open('task_2_var_63_subitem.pkl', 'rb') as file:\n",
    "    plk_data = pickle.load(file)\n",
    "plk_data[0:3]    "
   ]
  },
  {
   "cell_type": "code",
   "execution_count": 29,
   "id": "8c228a24",
   "metadata": {},
   "outputs": [],
   "source": [
    "def connect_to_db(file):\n",
    "    connection = sqlite3.connect(file)\n",
    "    connection.row_factory = sqlite3.Row\n",
    "    return connection"
   ]
  },
  {
   "cell_type": "code",
   "execution_count": 30,
   "id": "80d5b9d4",
   "metadata": {},
   "outputs": [],
   "source": [
    "# Создание таблицы в базе данных\n",
    "def create_table():\n",
    "    conn = sqlite3.connect('database.db')\n",
    "    c = conn.cursor()\n",
    "    c.execute('''CREATE TABLE IF NOT EXISTS properties_2\n",
    "                  (id INTEGER PRIMARY KEY AUTOINCREMENT,\n",
    "                   name TEXT, \n",
    "                   place INT,\n",
    "                prise INT)''')\n",
    "    conn.commit()\n",
    "    conn.close()"
   ]
  },
  {
   "cell_type": "code",
   "execution_count": 31,
   "id": "5714bc39",
   "metadata": {},
   "outputs": [],
   "source": [
    "# Чтение данных из файла в таблицу\n",
    "def insert_data():\n",
    "    conn = sqlite3.connect('database.db')\n",
    "    c = conn.cursor()\n",
    "    # Чтение данных из файла task_1_var_63_item.pkl\n",
    "    with open('task_2_var_63_subitem.pkl', 'rb') as file:\n",
    "        json_data = pickle.load(file)\n",
    "        \n",
    "    rows = []\n",
    "    for item in json_data:\n",
    "        row = {\n",
    "            'name': item['name'], \n",
    "            'place': item['place'], \n",
    "            'prise': item['prise']\n",
    "        }\n",
    "        rows.append(row)    \n",
    "    # Запись данных в таблицу\n",
    "    c.executemany(\"INSERT OR IGNORE INTO properties_2 (name, place, prise) VALUES (:name, :place, :prise)\", rows)\n",
    "    # Сохранение изменений\n",
    "    conn.commit()\n",
    "    conn.close() "
   ]
  },
  {
   "cell_type": "code",
   "execution_count": 41,
   "id": "feae7f3d",
   "metadata": {},
   "outputs": [],
   "source": [
    "# Объединить две таблицы properties и properties_2 по полю name\n",
    "\n",
    "\n",
    "# Получить все свойства и их рейтинги\n",
    "def oll_properties(): \n",
    "    # Устанавливаем соединение базой данных\n",
    "    conn = sqlite3.connect('database.db')\n",
    "    cursor = conn.cursor()\n",
    "    # Выполняем запрос\n",
    "    cursor.execute('''\n",
    "        SELECT p.name, p.system, p_2.prise\n",
    "        FROM properties p\n",
    "        INNER JOIN properties_2 p_2 ON p.name = p_2.name\n",
    "    ''')\n",
    "    # Получаем результат запроса\n",
    "    results = cursor.fetchall()\n",
    "\n",
    "    # Создаем список для хранения результатов\n",
    "    property_list = []\n",
    "\n",
    "    # Проходимся по каждой строке и добавляем данные в список\n",
    "    for row in results:\n",
    "        property_data = {\n",
    "            'Система': row[0],\n",
    "            'Цена': row[1]\n",
    "        }\n",
    "        property_list.append(property_data)\n",
    "\n",
    "    # Закрываем соединение\n",
    "    conn.close()\n",
    "\n",
    "    # Записываем список в файл JSON\n",
    "    with open('oll_properties_63_2.json', 'w', encoding='utf-8') as json_file:\n",
    "        json.dump(property_list, json_file, ensure_ascii=False)"
   ]
  },
  {
   "cell_type": "code",
   "execution_count": 47,
   "id": "c5e22bc6",
   "metadata": {},
   "outputs": [],
   "source": [
    "# Получить все свойства с местом и ценой выше 117500\n",
    "def prise_properties(): \n",
    "    # Устанавливаем соединение базой данных\n",
    "    conn = sqlite3.connect('database.db')\n",
    "    cursor = conn.cursor()\n",
    "    # Выполняем запрос\n",
    "    cursor.execute('''\n",
    "        SELECT p.name, p_2.place, p_2.prise\n",
    "        FROM properties p\n",
    "        JOIN properties_2 p_2 ON p.name = p_2.name\n",
    "        WHERE p_2.prise > 117500\n",
    "    ''')\n",
    "    # Получаем результат запроса\n",
    "    results = cursor.fetchall()\n",
    "\n",
    "    # Создаем список для хранения результатов\n",
    "    property_list = []\n",
    "\n",
    "    # Проходимся по каждой строке и добавляем данные в список\n",
    "    for row in results:\n",
    "        property_data = {\n",
    "            'Место': row[0],\n",
    "            'Цена': row[1]\n",
    "        }\n",
    "        property_list.append(property_data)\n",
    "\n",
    "    # Закрываем соединение\n",
    "    conn.close()\n",
    "\n",
    "    # Записываем список в файл JSON\n",
    "    with open('prise_properties_63_2.json', 'w', encoding='utf-8') as json_file:\n",
    "        json.dump(property_list, json_file, ensure_ascii=False)"
   ]
  },
  {
   "cell_type": "code",
   "execution_count": 48,
   "id": "d2124762",
   "metadata": {},
   "outputs": [],
   "source": [
    "# Получить все свойства с ценой и местом выше 5\n",
    "def five_properties(): \n",
    "    # Устанавливаем соединение базой данных\n",
    "    conn = sqlite3.connect('database.db')\n",
    "    cursor = conn.cursor()\n",
    "    # Выполняем запрос\n",
    "    cursor.execute('''\n",
    "        SELECT p.name, p_2.place\n",
    "        FROM properties p\n",
    "        JOIN properties_2 p_2 ON p.name = p_2.name\n",
    "        WHERE p_2.place > 5\n",
    "    ''')\n",
    "    # Получаем результат запроса\n",
    "    results = cursor.fetchall()\n",
    "\n",
    "    # Создаем список для хранения результатов\n",
    "    property_list = []\n",
    "\n",
    "    # Проходимся по каждой строке и добавляем данные в список\n",
    "    for row in results:\n",
    "        property_data = {\n",
    "            'Место': row[0],\n",
    "            'Цена': row[1],\n",
    "        }\n",
    "        property_list.append(property_data)\n",
    "\n",
    "    # Закрываем соединение\n",
    "    conn.close()\n",
    "\n",
    "    # Записываем список в файл JSON\n",
    "    with open('five_properties_63_2.json', 'w', encoding='utf-8') as json_file:\n",
    "        json.dump(property_list, json_file, ensure_ascii=False)"
   ]
  },
  {
   "cell_type": "code",
   "execution_count": 49,
   "id": "aeb93782",
   "metadata": {},
   "outputs": [],
   "source": [
    "connect_to_db('database.db')\n",
    "create_table()\n",
    "insert_data()\n",
    "oll_properties()\n",
    "prise_properties()\n",
    "five_properties()"
   ]
  },
  {
   "cell_type": "code",
   "execution_count": null,
   "id": "5563b9ea",
   "metadata": {},
   "outputs": [],
   "source": []
  }
 ],
 "metadata": {
  "kernelspec": {
   "display_name": "Python 3 (ipykernel)",
   "language": "python",
   "name": "python3"
  },
  "language_info": {
   "codemirror_mode": {
    "name": "ipython",
    "version": 3
   },
   "file_extension": ".py",
   "mimetype": "text/x-python",
   "name": "python",
   "nbconvert_exporter": "python",
   "pygments_lexer": "ipython3",
   "version": "3.9.13"
  }
 },
 "nbformat": 4,
 "nbformat_minor": 5
}
