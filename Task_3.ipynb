{
 "cells": [
  {
   "cell_type": "code",
   "execution_count": 1,
   "id": "6110ab45",
   "metadata": {},
   "outputs": [],
   "source": [
    "# Дано два файла разных форматов. Необходимо проанализировать их структуру и выделить общие хранимые данные. \n",
    "# Необходимо создать таблицу для хранения данных в базе данных. \n",
    "# Произведите запись данных из файлов разных форматов в одну таблицу. \n",
    "# Реализуйте и выполните следующие запросы:\n",
    "#  вывод первых (VAR+10) отсортированных по произвольному числовому полю строк из таблицы в файл формата json;\n",
    "#  вывод (сумму, мин, макс, среднее) по произвольному числовому полю;\n",
    "#  вывод частоты встречаемости для категориального поля;\n",
    "#  вывод первых (VAR+15) отфильтрованных по произвольному предикату отсортированных по произвольному числовому полю строк \n",
    "#  из таблицы в файл формате json."
   ]
  },
  {
   "cell_type": "code",
   "execution_count": 1,
   "id": "5deb3b69",
   "metadata": {},
   "outputs": [],
   "source": [
    "import pandas as pd\n",
    "import sqlite3\n",
    "import pickle\n",
    "import json"
   ]
  },
  {
   "cell_type": "code",
   "execution_count": 3,
   "id": "29c2d70f",
   "metadata": {
    "scrolled": false
   },
   "outputs": [
    {
     "data": {
      "text/plain": [
       "[{'artist': 'Huey',\n",
       "  'song': 'Pop, Lock & Drop It - Video Edit',\n",
       "  'duration_ms': '261026',\n",
       "  'year': '2006',\n",
       "  'tempo': '144.09',\n",
       "  'genre': 'hip hop, pop',\n",
       "  'explicit': 'False',\n",
       "  'popularity': '52',\n",
       "  'danceability': '0.723'},\n",
       " {'artist': 'Faith Evans',\n",
       "  'song': 'I Love You',\n",
       "  'duration_ms': '267160',\n",
       "  'year': '2001',\n",
       "  'tempo': '168.004',\n",
       "  'genre': 'hip hop, pop, R&B',\n",
       "  'explicit': 'False',\n",
       "  'popularity': '53',\n",
       "  'danceability': '0.489'},\n",
       " {'artist': 'Rita Ora',\n",
       "  'song': 'Anywhere',\n",
       "  'duration_ms': '215064',\n",
       "  'year': '2017',\n",
       "  'tempo': '106.93',\n",
       "  'genre': 'hip hop, pop, Dance/Electronic',\n",
       "  'explicit': 'False',\n",
       "  'popularity': '63',\n",
       "  'danceability': '0.628'}]"
      ]
     },
     "execution_count": 3,
     "metadata": {},
     "output_type": "execute_result"
    }
   ],
   "source": [
    "with open('task_3_var_63_part_1.json', 'r', encoding='utf-8') as file:\n",
    "    data_json = json.load(file)\n",
    "data_json[0:3]"
   ]
  },
  {
   "cell_type": "code",
   "execution_count": 4,
   "id": "51be255e",
   "metadata": {},
   "outputs": [
    {
     "data": {
      "text/plain": [
       "[{'artist': 'Jennifer Lopez',\n",
       "  'song': \"I'm Real (feat. Ja Rule) - Murder Remix\",\n",
       "  'duration_ms': '262133',\n",
       "  'year': '2001',\n",
       "  'tempo': '83.46',\n",
       "  'genre': 'hip hop, pop, R&B',\n",
       "  'acousticness': '0.273',\n",
       "  'energy': '0.587',\n",
       "  'popularity': '66'},\n",
       " {'artist': 'Lady Gaga',\n",
       "  'song': 'Telephone',\n",
       "  'duration_ms': '220640',\n",
       "  'year': '2009',\n",
       "  'tempo': '122.014',\n",
       "  'genre': 'pop',\n",
       "  'acousticness': '0.00521',\n",
       "  'energy': '0.836',\n",
       "  'popularity': '69'},\n",
       " {'artist': 'Tove Lo',\n",
       "  'song': 'Talking Body',\n",
       "  'duration_ms': '238426',\n",
       "  'year': '2014',\n",
       "  'tempo': '119.999',\n",
       "  'genre': 'pop, Dance/Electronic',\n",
       "  'acousticness': '0.0966',\n",
       "  'energy': '0.761',\n",
       "  'popularity': '66'}]"
      ]
     },
     "execution_count": 4,
     "metadata": {},
     "output_type": "execute_result"
    }
   ],
   "source": [
    "with open('task_3_var_63_part_2.pkl', 'rb') as file:\n",
    "    data_pkl = pickle.load(file)\n",
    "data_pkl[0:3]"
   ]
  },
  {
   "cell_type": "code",
   "execution_count": 5,
   "id": "d0dd6829",
   "metadata": {},
   "outputs": [],
   "source": [
    "def connect_to_db(file):\n",
    "    connection = sqlite3.connect(file)\n",
    "    connection.row_factory = sqlite3.Row\n",
    "    return connection"
   ]
  },
  {
   "cell_type": "code",
   "execution_count": 14,
   "id": "7a7b1832",
   "metadata": {},
   "outputs": [],
   "source": [
    "# Создание таблицы в базе данных\n",
    "def create_table():\n",
    "    conn = sqlite3.connect('database')\n",
    "    c = conn.cursor()\n",
    "    c.execute('''CREATE TABLE IF NOT EXISTS music\n",
    "                  (id INTEGER PRIMARY KEY AUTOINCREMENT,\n",
    "                   artist TEXT,\n",
    "                   song TEXT,\n",
    "                   duration_ms INTEGER,\n",
    "                   year INTEGER,\n",
    "                   tempo FLOAT,\n",
    "                   genre TEXT,\n",
    "                popularity INTEGER)''')\n",
    "    conn.commit()\n",
    "    conn.close()"
   ]
  },
  {
   "cell_type": "code",
   "execution_count": 16,
   "id": "6139cb64",
   "metadata": {},
   "outputs": [],
   "source": [
    "# Чтение данных из файлов в таблицу\n",
    "def insert_data():\n",
    "    conn = sqlite3.connect('database')\n",
    "    c = conn.cursor()\n",
    "    # Чтение данных из файла JSON и запись их в таблицу\n",
    "    with open('task_3_var_63_part_1.json', 'r', encoding='utf-8') as json_file:\n",
    "        json_data = json.load(json_file)\n",
    "        for data in json_data:\n",
    "            c.execute(\"INSERT INTO music (artist, song, duration_ms, year, tempo, genre, popularity) VALUES (?, ?, ?, ?, ?, ?, ?)\",\n",
    "                      (data['artist'], data['song'], data['duration_ms'], data['year'], data['tempo'], data['genre'], data['popularity']))        \n",
    "            \n",
    "    # Чтение данных из файла PKL и запись их в таблицу\n",
    "    with open('task_3_var_63_part_2.pkl', 'rb') as pickle_file:\n",
    "        pickle_reader = pickle.load(pickle_file)\n",
    "        for item in pickle_reader:\n",
    "            c.execute(\"INSERT INTO music (artist, song, duration_ms, year, tempo, genre, popularity) VALUES (?, ?, ?, ?, ?, ?, ?)\",\n",
    "                      (item['artist'], item['song'], item['duration_ms'], item['year'], item['tempo'], item['genre'], data['popularity']))\n",
    "    \n",
    "    conn.commit()\n",
    "    conn.close()"
   ]
  },
  {
   "cell_type": "code",
   "execution_count": 17,
   "id": "411f29b3",
   "metadata": {},
   "outputs": [],
   "source": [
    "# Вывод первых 73 отсортированных по числовому полю ['popularity'] в файл json\n",
    "def sort_by_popularity():\n",
    "    conn = sqlite3.connect('database')\n",
    "    c = conn.cursor()\n",
    "    c.execute(\"SELECT * FROM music ORDER BY popularity LIMIT 73\")\n",
    "    result = c.fetchall()\n",
    "    with open('sorted_properties_63_3.json', 'w', encoding='utf-8') as file:\n",
    "        json.dump(result, file, ensure_ascii=False)\n",
    "\n",
    "    conn.close()  "
   ]
  },
  {
   "cell_type": "code",
   "execution_count": 18,
   "id": "56be3f51",
   "metadata": {},
   "outputs": [],
   "source": [
    "# Вывод суммы, минимума, максимума и среднего значения по полю ['tempo']\n",
    "def floors_statistics():\n",
    "    conn = sqlite3.connect('database')\n",
    "    c = conn.cursor()\n",
    "\n",
    "    c.execute(\"SELECT SUM(tempo), MIN(tempo), MAX(tempo), AVG(tempo) FROM music\")\n",
    "    result = c.fetchone()\n",
    "\n",
    "    conn.close()\n",
    "\n",
    "    return result"
   ]
  },
  {
   "cell_type": "code",
   "execution_count": 19,
   "id": "9206e7e6",
   "metadata": {},
   "outputs": [],
   "source": [
    "# Вывод частоты встречаемости для категориального поля ['song']\n",
    "def song_frequency():\n",
    "    conn = sqlite3.connect('database')\n",
    "    c = conn.cursor()\n",
    "\n",
    "    c.execute(\"SELECT song, COUNT(*) FROM music GROUP BY song\")\n",
    "    result = c.fetchall()\n",
    "\n",
    "    conn.close()\n",
    "\n",
    "    return result"
   ]
  },
  {
   "cell_type": "code",
   "execution_count": 22,
   "id": "0e4b0bd1",
   "metadata": {},
   "outputs": [],
   "source": [
    "# Вывод первых 78 отфильтрованных по произвольному предикату и отсортированных по числовому полю ['year'] в файл json\n",
    "def filter_and_sort_by_year():\n",
    "    conn = sqlite3.connect('database')\n",
    "    c = conn.cursor()\n",
    "\n",
    "    c.execute(\"SELECT * FROM music WHERE year > 2010 ORDER BY year LIMIT 78\")\n",
    "    result = c.fetchall()\n",
    "\n",
    "    with open('filtered_properties_63_3.json', 'w', encoding='utf-8') as file:\n",
    "        json.dump(result, file, ensure_ascii=False)\n",
    "\n",
    "    conn.close()  "
   ]
  },
  {
   "cell_type": "code",
   "execution_count": 23,
   "id": "b719b34d",
   "metadata": {},
   "outputs": [],
   "source": [
    "connect_to_db('database.db')\n",
    "create_table()\n",
    "insert_data()\n",
    "sort_by_popularity()\n",
    "floors_statistics()\n",
    "song_frequency()\n",
    "filter_and_sort_by_year()  "
   ]
  },
  {
   "cell_type": "code",
   "execution_count": null,
   "id": "a5fe70c0",
   "metadata": {},
   "outputs": [],
   "source": []
  }
 ],
 "metadata": {
  "kernelspec": {
   "display_name": "Python 3 (ipykernel)",
   "language": "python",
   "name": "python3"
  },
  "language_info": {
   "codemirror_mode": {
    "name": "ipython",
    "version": 3
   },
   "file_extension": ".py",
   "mimetype": "text/x-python",
   "name": "python",
   "nbconvert_exporter": "python",
   "pygments_lexer": "ipython3",
   "version": "3.9.13"
  }
 },
 "nbformat": 4,
 "nbformat_minor": 5
}
