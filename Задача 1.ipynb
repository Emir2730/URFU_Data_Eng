{
 "cells": [
  {
   "cell_type": "code",
   "execution_count": 1,
   "id": "35131bd5",
   "metadata": {},
   "outputs": [],
   "source": [
    "# Дан файл с некоторыми данными. Формат файла – произвольный. \n",
    "# Спроектируйте на его основе и создайте таблицу в базе данных (SQLite). \n",
    "# Считайте данные из файла и запишите их в созданную таблицу. \n",
    "# Реализуйте и выполните следующие запросы:\n",
    "#    вывод первых (VAR+10) отсортированных по произвольному числовому полю строк из таблицы в файл формата json;\n",
    "#    вывод (сумму, мин, макс, среднее) по произвольному числовому полю;\n",
    "#    вывод частоты встречаемости для категориального поля;\n",
    "#    вывод первых (VAR+10) отфильтрованных по произвольному предикату отсортированных по произвольному числовому полю строк \n",
    "#    из таблицы в файл формате json."
   ]
  },
  {
   "cell_type": "code",
   "execution_count": 12,
   "id": "c9d19817",
   "metadata": {},
   "outputs": [],
   "source": [
    "import pandas as pd\n",
    "import sqlite3\n",
    "import msgpack\n",
    "import json"
   ]
  },
  {
   "cell_type": "code",
   "execution_count": 13,
   "id": "d68d9db8",
   "metadata": {},
   "outputs": [
    {
     "data": {
      "text/plain": [
       "[{'id': 305384,\n",
       "  'name': 'Балтийская цепь 1986',\n",
       "  'city': 'Мадрид',\n",
       "  'begin': '16.03',\n",
       "  'system': 'circular',\n",
       "  'tours_count': 9,\n",
       "  'min_rating': 2227,\n",
       "  'time_on_game': 42},\n",
       " {'id': 990466,\n",
       "  'name': 'Цюрих 2024',\n",
       "  'city': 'Осера',\n",
       "  'begin': '21.05',\n",
       "  'system': 'Olympic',\n",
       "  'tours_count': 11,\n",
       "  'min_rating': 2377,\n",
       "  'time_on_game': 58},\n",
       " {'id': 263581,\n",
       "  'name': 'Реджо-нель-Эмилия 1959',\n",
       "  'city': 'Краков',\n",
       "  'begin': '07.10',\n",
       "  'system': 'Olympic',\n",
       "  'tours_count': 8,\n",
       "  'min_rating': 2237,\n",
       "  'time_on_game': 78}]"
      ]
     },
     "execution_count": 13,
     "metadata": {},
     "output_type": "execute_result"
    }
   ],
   "source": [
    "with open(b'task_1_var_63_item.msgpack', 'rb') as f:\n",
    "    data = msgpack.load(f)\n",
    "data[0:3]    "
   ]
  },
  {
   "cell_type": "code",
   "execution_count": 14,
   "id": "91a648c0",
   "metadata": {},
   "outputs": [],
   "source": [
    "def connect_to_db(file):\n",
    "    connection = sqlite3.connect(file)\n",
    "    connection.row_factory = sqlite3.Row\n",
    "    return connection"
   ]
  },
  {
   "cell_type": "code",
   "execution_count": 1,
   "id": "181c15f5",
   "metadata": {},
   "outputs": [],
   "source": []
  },
  {
   "cell_type": "code",
   "execution_count": 15,
   "id": "470a9f9e",
   "metadata": {},
   "outputs": [],
   "source": [
    "# Создание таблицы в базе данных\n",
    "def create_table():\n",
    "    conn = sqlite3.connect('database.db')\n",
    "    c = conn.cursor()\n",
    "    c.execute('''CREATE TABLE IF NOT EXISTS properties\n",
    "                  (id INT PRIMARY KEY,\n",
    "                  name TEXT,\n",
    "                  city TEXT,\n",
    "                  begin TXT,\n",
    "                  system TXT,\n",
    "                  tours_count INT,\n",
    "                  min_rating INT,\n",
    "                  time_on_game INT)''')\n",
    "    conn.commit()\n",
    "    conn.close()"
   ]
  },
  {
   "cell_type": "code",
   "execution_count": 23,
   "id": "e1b3ecf6",
   "metadata": {},
   "outputs": [],
   "source": [
    "# Чтение данных из файла в таблицу\n",
    "def insert_data():\n",
    "    conn = sqlite3.connect('database.db')\n",
    "    c = conn.cursor()\n",
    "    # Чтение данных из файла task_1_var_63_item.msgpack\n",
    "    with open('task_1_var_63_item.msgpack', 'rb') as file:\n",
    "        data = msgpack.load(file)\n",
    "    \n",
    "    rows = []\n",
    "    for item in data:\n",
    "        row = {\n",
    "            'id': item['id'],\n",
    "            'name': item['name'], \n",
    "            'city': item['city'], \n",
    "            'begin': item['begin'], \n",
    "            'system': item['system'], \n",
    "            'tours_count': item['tours_count'], \n",
    "            'min_rating': item['min_rating'], \n",
    "            'time_on_game': item['time_on_game']\n",
    "        }\n",
    "        rows.append(row)\n",
    "        \n",
    "    # Запись данных в таблицу\n",
    "    c.executemany(\"INSERT OR IGNORE INTO properties (id, name, city, begin, system, tours_count, min_rating, time_on_game) VALUES (:id, :name, :city, :begin, :system, :tours_count, :min_rating, :time_on_game)\", rows)\n",
    "    # Сохранение изменений\n",
    "    conn.commit()\n",
    "    conn.close()    "
   ]
  },
  {
   "cell_type": "code",
   "execution_count": 32,
   "id": "53f51dc3",
   "metadata": {},
   "outputs": [],
   "source": [
    "# Вывод первых 73 отсортированных по числовому полю ['tours_count'] в файл json\n",
    "def sort_by_tours_count():\n",
    "    conn = sqlite3.connect('database.db')\n",
    "    c = conn.cursor()\n",
    "    c.execute(\"SELECT * FROM properties ORDER BY tours_count LIMIT 73\")\n",
    "    result = c.fetchall()\n",
    "    with open('sorted_properties_63_1.json', 'w', encoding='utf-8') as file:\n",
    "        json.dump(result, file, ensure_ascii=False)\n",
    "\n",
    "    conn.close()"
   ]
  },
  {
   "cell_type": "code",
   "execution_count": 41,
   "id": "c902e6ba",
   "metadata": {},
   "outputs": [],
   "source": [
    "# Вывод суммы, минимума, максимума и среднего значения по полю ['min_rating']\n",
    "def min_rating_statistics():\n",
    "    conn = sqlite3.connect('database.db')\n",
    "    c = conn.cursor()\n",
    "\n",
    "    c.execute(\"SELECT SUM(min_rating), MIN(min_rating), MAX(min_rating), AVG(min_rating) FROM properties\")\n",
    "    result = c.fetchone()\n",
    "\n",
    "    conn.close()\n",
    "\n",
    "    return result"
   ]
  },
  {
   "cell_type": "code",
   "execution_count": 42,
   "id": "cd00668b",
   "metadata": {},
   "outputs": [],
   "source": [
    "# Вывод частоты встречаемости для категориального поля ['city']\n",
    "def city_frequency():\n",
    "    conn = sqlite3.connect('database.db')\n",
    "    c = conn.cursor()\n",
    "\n",
    "    c.execute(\"SELECT city, COUNT(*) FROM properties GROUP BY city\")\n",
    "    result = c.fetchall()\n",
    "\n",
    "    conn.close()\n",
    "\n",
    "    return result"
   ]
  },
  {
   "cell_type": "code",
   "execution_count": 51,
   "id": "39906f25",
   "metadata": {},
   "outputs": [],
   "source": [
    "# Вывод первых 73 отфильтрованных по произвольному предикату и отсортированных по числовому полю ['time_on_game'] в файл json\n",
    "def filter_and_sort_by_time_on_game():\n",
    "    conn = sqlite3.connect('database.db')\n",
    "    c = conn.cursor()\n",
    "\n",
    "    c.execute(\"SELECT * FROM properties WHERE time_on_game > 80 ORDER BY time_on_game LIMIT 73\")\n",
    "    result = c.fetchall()\n",
    "\n",
    "    with open('filtered_properties_63_1.json', 'w', encoding='utf-8') as file:\n",
    "        json.dump(result, file, ensure_ascii=False)\n",
    "\n",
    "    conn.close()"
   ]
  },
  {
   "cell_type": "code",
   "execution_count": 52,
   "id": "4b2a7866",
   "metadata": {},
   "outputs": [
    {
     "data": {
      "text/plain": [
       "<sqlite3.Connection at 0x2416c0af030>"
      ]
     },
     "execution_count": 52,
     "metadata": {},
     "output_type": "execute_result"
    }
   ],
   "source": [
    "connect_to_db('database.db')"
   ]
  },
  {
   "cell_type": "code",
   "execution_count": 53,
   "id": "3790dac9",
   "metadata": {},
   "outputs": [],
   "source": [
    "# Создание таблицы и запись данных\n",
    "create_table()\n",
    "insert_data()"
   ]
  },
  {
   "cell_type": "code",
   "execution_count": 55,
   "id": "766ebc2e",
   "metadata": {},
   "outputs": [],
   "source": [
    "# Вывод первых 73 отсортированных по числовому полю ['tours_count'] в файл json\n",
    "sort_by_tours_count()"
   ]
  },
  {
   "cell_type": "code",
   "execution_count": 56,
   "id": "ed14e627",
   "metadata": {},
   "outputs": [
    {
     "data": {
      "text/plain": [
       "(174401, 2217, 2641, 2422.2361111111113)"
      ]
     },
     "execution_count": 56,
     "metadata": {},
     "output_type": "execute_result"
    }
   ],
   "source": [
    "# Вывод статистики по полю ['min_rating']\n",
    "min_rating_stats = min_rating_statistics()\n",
    "min_rating_sum, min_rating_min, min_rating_max, min_rating_avg = min_rating_stats\n",
    "min_rating_stats"
   ]
  },
  {
   "cell_type": "code",
   "execution_count": 57,
   "id": "5dbd39d5",
   "metadata": {},
   "outputs": [
    {
     "data": {
      "text/plain": [
       "[('Авилес', 1),\n",
       " ('Алькала-де-Энарес', 1),\n",
       " ('Астана', 1),\n",
       " ('Баку', 3),\n",
       " ('Барселона', 1),\n",
       " ('Бланес', 1),\n",
       " ('Будапешт', 2),\n",
       " ('Вальядолид', 2),\n",
       " ('Виго', 2),\n",
       " ('Вильнюс', 1),\n",
       " ('Вильявисиоса', 2),\n",
       " ('Вроцлав', 1),\n",
       " ('Душанбе', 2),\n",
       " ('Картахена', 2),\n",
       " ('Касерес', 4),\n",
       " ('Киев', 3),\n",
       " ('Кишинев', 1),\n",
       " ('Кордова', 1),\n",
       " ('Краков', 2),\n",
       " ('Куэнка', 1),\n",
       " ('Лас-Росас', 1),\n",
       " ('Луарка', 1),\n",
       " ('Луго', 1),\n",
       " ('Мадрид', 2),\n",
       " ('Малага', 1),\n",
       " ('Мерида', 1),\n",
       " ('Минск', 1),\n",
       " ('Монсон', 1),\n",
       " ('Москва', 3),\n",
       " ('Мурсия', 1),\n",
       " ('Овьедо', 1),\n",
       " ('Осера', 3),\n",
       " ('Пласенсия', 1),\n",
       " ('Рига', 1),\n",
       " ('Сан-Себастьян', 1),\n",
       " ('Санкт-Петербург', 2),\n",
       " ('Сантьяго-де-Компостела', 1),\n",
       " ('Санхенхо', 1),\n",
       " ('Сеговия', 1),\n",
       " ('София', 2),\n",
       " ('Сьюдад-Реаль', 1),\n",
       " ('Таллин', 2),\n",
       " ('Тарраса', 2),\n",
       " ('Ташкент', 1),\n",
       " ('Трухильо', 1),\n",
       " ('Хихон', 2),\n",
       " ('Эль-Пуэрто-де-Санта-Мария', 1),\n",
       " ('Эльче', 1)]"
      ]
     },
     "execution_count": 57,
     "metadata": {},
     "output_type": "execute_result"
    }
   ],
   "source": [
    "# Вывод частоты встречаемости для категориального поля ['city']\n",
    "city_freq = city_frequency()\n",
    "city_freq"
   ]
  },
  {
   "cell_type": "code",
   "execution_count": 15,
   "id": "26ed76dd",
   "metadata": {},
   "outputs": [],
   "source": [
    "# Вывод первых 73 отфильтрованных по произвольному предикату и отсортированных по числовому полю ['time_on_game'] в файл json\n",
    "filter_and_sort_by_time_on_game()"
   ]
  },
  {
   "cell_type": "code",
   "execution_count": null,
   "id": "60f2e0d6",
   "metadata": {},
   "outputs": [],
   "source": []
  }
 ],
 "metadata": {
  "kernelspec": {
   "display_name": "Python 3 (ipykernel)",
   "language": "python",
   "name": "python3"
  },
  "language_info": {
   "codemirror_mode": {
    "name": "ipython",
    "version": 3
   },
   "file_extension": ".py",
   "mimetype": "text/x-python",
   "name": "python",
   "nbconvert_exporter": "python",
   "pygments_lexer": "ipython3",
   "version": "3.9.13"
  }
 },
 "nbformat": 4,
 "nbformat_minor": 5
}
