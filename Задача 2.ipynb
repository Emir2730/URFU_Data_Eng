{
 "cells": [
  {
   "cell_type": "code",
   "execution_count": 1,
   "id": "9895136c",
   "metadata": {},
   "outputs": [],
   "source": [
    "# Исследовать структуру html-файлов, чтобы произвести парсинг всех данных. \n",
    "# В каждом файле содержится информация об одном или нескольких объектах из случайной предметной области. \n",
    "# Перечень всех характеристик объекта может меняться (у отдельного объекта могут отсутствовать некоторые характеристики). \n",
    "# Полученные данные собрать и записать в json. \n",
    "# Выполните также ряд операций с данными:\n",
    "# отсортируйте значения по одному из доступных полей\n",
    "# выполните фильтрацию по другому полю (запишите результат отдельно)\n",
    "# для одного выбранного числового поля посчитайте статистические характеристики (сумма, мин/макс, среднее и т.д.)\n",
    "# для одного текстового поля посчитайте частоту меток."
   ]
  },
  {
   "cell_type": "code",
   "execution_count": 1,
   "id": "f9e73f66",
   "metadata": {},
   "outputs": [],
   "source": [
    "from bs4 import BeautifulSoup\n",
    "import re\n",
    "import json\n",
    "import math\n",
    "import collections\n",
    "import pandas as pd"
   ]
  },
  {
   "cell_type": "code",
   "execution_count": 2,
   "id": "f376f520",
   "metadata": {},
   "outputs": [],
   "source": [
    "def handle_file(file_name):\n",
    "    items = list()\n",
    "    with open(file_name, encoding = 'utf-8') as file:\n",
    "        text = \"\"\n",
    "        for row in file.readlines():\n",
    "            text += row\n",
    "        site = BeautifulSoup(text, 'html.parser')\n",
    "        products = site.find_all('div', attrs={'class' : 'product-item'})\n",
    "        #print(len(products))\n",
    "        for product in products:\n",
    "            item = dict()\n",
    "            item['id'] = product.a['data-id']\n",
    "            item['link'] = product.find_all('a')[1]['href']\n",
    "            item['img'] = site.find_all('img')[0]['src']\n",
    "            item['name'] = product.find_all('span')[0].get_text().strip()\n",
    "            item['price'] = int(product.price.get_text().replace('₽', '').replace(' ', '').strip())\n",
    "            item['bonus'] = int(product.strong.get_text().replace('+ начислим ', '').replace(' бонусов', '').strip())\n",
    "            props = product.ul.find_all('li')\n",
    "            for prop in props:\n",
    "                item[prop['type']] = prop.get_text().strip()    \n",
    "            items.append(item)\n",
    "    return(items)       "
   ]
  },
  {
   "cell_type": "code",
   "execution_count": 3,
   "id": "0f98d6cc",
   "metadata": {},
   "outputs": [
    {
     "name": "stdout",
     "output_type": "stream",
     "text": [
      "[{'id': '41554', 'link': '/product/41554', 'img': '/upload/63797.png', 'name': '7.0\" Xiaomi Mi 32GB', 'price': 70461, 'bonus': 704, 'matrix': 'OLED', 'camera': '32 MP'}, {'id': '38094', 'link': '/product/38094', 'img': '/upload/63797.png', 'name': '6.7\" HTC 48GB', 'price': 104618, 'bonus': 1046, 'ram': '7 GB', 'sim': '2 SIM', 'resolution': '1920x2160', 'camera': '35 MP', 'acc': '7219 мА * ч'}, {'id': '12068', 'link': '/product/12068', 'img': '/upload/63797.png', 'name': '6.7\" Dell 176GB', 'price': 228547, 'bonus': 2285, 'sim': '3 SIM', 'matrix': 'OLED', 'resolution': '1920x2160', 'camera': '61 MP'}, {'id': '74878', 'link': '/product/74878', 'img': '/upload/63797.png', 'name': '7.0\" Asus 224GB', 'price': 45457, 'bonus': 454, 'ram': '9 GB', 'sim': '3 SIM', 'matrix': 'AMOLED', 'camera': '123 MP', 'acc': '5519 мА * ч'}, {'id': '46127', 'link': '/product/46127', 'img': '/upload/63797.png', 'name': '5.1\" NVIDIA 176GB', 'price': 366661, 'bonus': 3666, 'ram': '4 GB', 'matrix': 'OLED', 'resolution': '1280x768', 'acc': '2000 мА * ч'}]\n"
     ]
    }
   ],
   "source": [
    "items = []\n",
    "for i in range(1,67):\n",
    "  file_name = f'./2/{i}.html'\n",
    "  items += handle_file(file_name)\n",
    "print(items[1:6])    "
   ]
  },
  {
   "cell_type": "code",
   "execution_count": 4,
   "id": "dfdb5269",
   "metadata": {},
   "outputs": [],
   "source": [
    "with open('result_all_63_2.json', 'w', encoding = 'utf-8') as f:\n",
    "    f.write(json.dumps(items, ensure_ascii=False))"
   ]
  },
  {
   "cell_type": "markdown",
   "id": "97c8add0",
   "metadata": {},
   "source": [
    "Отсортируeм значения по полю ['price'] в убывающем порядке:"
   ]
  },
  {
   "cell_type": "code",
   "execution_count": 5,
   "id": "cf821dac",
   "metadata": {
    "scrolled": true
   },
   "outputs": [
    {
     "name": "stdout",
     "output_type": "stream",
     "text": [
      "[{'id': '44213', 'link': '/product/44213', 'img': '/upload/720887.png', 'name': '7.0\" Kingston 224GB', 'price': 499790, 'bonus': 4997, 'sim': '2 SIM', 'resolution': '1366x768', 'acc': '5937 мА * ч'}, {'id': '19836', 'link': '/product/19836', 'img': '/upload/764550.jpg', 'name': '5.3\" ADATA 32GB', 'price': 499627, 'bonus': 4996, 'processor': '6x3.9 ГГц', 'ram': '14 GB', 'sim': '1 SIM', 'camera': '46 MP'}, {'id': '78731', 'link': '/product/78731', 'img': '/upload/246124.png', 'name': '5.8\" Nokia 16GB', 'price': 499502, 'bonus': 4995, 'processor': '4x3.0 ГГц', 'sim': '4 SIM', 'matrix': 'OLED'}, {'id': '38708', 'link': '/product/38708', 'img': '/upload/439013.svg', 'name': '5.8\" Samsung S21 128GB', 'price': 499494, 'bonus': 4994, 'processor': '8x4.3 ГГц', 'resolution': '1366x768', 'camera': '73 MP'}, {'id': '41356', 'link': '/product/41356', 'img': '/upload/270132.jpg', 'name': '5.8\" Transcend 80GB', 'price': 499455, 'bonus': 4994, 'processor': '2x4.1 ГГц', 'ram': '10 GB', 'sim': '2 SIM', 'matrix': 'OLED', 'resolution': '2560x1366'}]\n"
     ]
    }
   ],
   "source": [
    "items = sorted(items, key = lambda x: x['price'], reverse = True)\n",
    "print(items[1:6])"
   ]
  },
  {
   "cell_type": "markdown",
   "id": "9e581d19",
   "metadata": {},
   "source": [
    "Выполним фильтрацию по полю ['bonus']:"
   ]
  },
  {
   "cell_type": "code",
   "execution_count": 6,
   "id": "388e4d5b",
   "metadata": {
    "scrolled": false
   },
   "outputs": [
    {
     "name": "stdout",
     "output_type": "stream",
     "text": [
      "[{'id': '44213', 'link': '/product/44213', 'img': '/upload/720887.png', 'name': '7.0\" Kingston 224GB', 'price': 499790, 'bonus': 4997, 'sim': '2 SIM', 'resolution': '1366x768', 'acc': '5937 мА * ч'}, {'id': '19836', 'link': '/product/19836', 'img': '/upload/764550.jpg', 'name': '5.3\" ADATA 32GB', 'price': 499627, 'bonus': 4996, 'processor': '6x3.9 ГГц', 'ram': '14 GB', 'sim': '1 SIM', 'camera': '46 MP'}, {'id': '78731', 'link': '/product/78731', 'img': '/upload/246124.png', 'name': '5.8\" Nokia 16GB', 'price': 499502, 'bonus': 4995, 'processor': '4x3.0 ГГц', 'sim': '4 SIM', 'matrix': 'OLED'}, {'id': '38708', 'link': '/product/38708', 'img': '/upload/439013.svg', 'name': '5.8\" Samsung S21 128GB', 'price': 499494, 'bonus': 4994, 'processor': '8x4.3 ГГц', 'resolution': '1366x768', 'camera': '73 MP'}, {'id': '41356', 'link': '/product/41356', 'img': '/upload/270132.jpg', 'name': '5.8\" Transcend 80GB', 'price': 499455, 'bonus': 4994, 'processor': '2x4.1 ГГц', 'ram': '10 GB', 'sim': '2 SIM', 'matrix': 'OLED', 'resolution': '2560x1366'}]\n"
     ]
    }
   ],
   "source": [
    "filtered_items = []\n",
    "for goods in items:\n",
    "    if goods['bonus'] > 4960:\n",
    "        filtered_items.append(goods)\n",
    "print(filtered_items[1:6])        "
   ]
  },
  {
   "cell_type": "code",
   "execution_count": 7,
   "id": "5c8c88a5",
   "metadata": {},
   "outputs": [],
   "source": [
    "with open(\"result_filtered_63_2.json\", \"w\", encoding = 'utf-8') as file:\n",
    "    file.write(json.dumps(filtered_items, ensure_ascii=False))"
   ]
  },
  {
   "cell_type": "markdown",
   "id": "26b04960",
   "metadata": {},
   "source": [
    "для числового поля ['price'] посчитаем статистические характеристики (сумма, мин/макс, среднее и т.д.)"
   ]
  },
  {
   "cell_type": "code",
   "execution_count": 8,
   "id": "f14f6674",
   "metadata": {},
   "outputs": [
    {
     "name": "stdout",
     "output_type": "stream",
     "text": [
      "[{'max': 499855.0, 'min': 10009.0, 'mean': 255138.2688253012, 'median': 256149.5, 'std': 143762.4396247343}]\n"
     ]
    }
   ],
   "source": [
    "stats_items = []\n",
    "df = pd.DataFrame(items)\n",
    "pd.set_option('display.float_format', '{:.1f}'.format)\n",
    "stats = df['price'].agg(['max', 'min', 'mean', 'median', 'std']).to_dict()\n",
    "stats_items.append(stats)\n",
    "print(stats_items)"
   ]
  },
  {
   "cell_type": "markdown",
   "id": "7eb906a6",
   "metadata": {},
   "source": [
    "для текстового поля ['img'] посчитайте частоту меток"
   ]
  },
  {
   "cell_type": "code",
   "execution_count": 9,
   "id": "9b574abc",
   "metadata": {},
   "outputs": [
    {
     "name": "stdout",
     "output_type": "stream",
     "text": [
      "[Counter({'/upload/525372.png': 99, '/upload/602417.webp': 99, '/upload/150075.png': 98, '/upload/746582.jpeg': 98, '/upload/109315.png': 97, '/upload/662043.jpeg': 97, '/upload/635168.webp': 96, '/upload/720887.png': 95, '/upload/926788.jpg': 92, '/upload/970038.jpg': 92, '/upload/241147.webp': 92, '/upload/790116.png': 92, '/upload/305983.jpeg': 89, '/upload/482637.jpeg': 85, '/upload/360930.jpeg': 82, '/upload/199460.jpg': 80, '/upload/683231.png': 75, '/upload/216920.jpg': 75, '/upload/798640.webp': 74, '/upload/270132.jpg': 72, '/upload/486501.png': 72, '/upload/690694.svg': 72, '/upload/589657.webp': 69, '/upload/260313.png': 69, '/upload/582730.webp': 67, '/upload/957122.jpeg': 67, '/upload/648344.webp': 67, '/upload/489871.png': 66, '/upload/63797.png': 63, '/upload/815128.webp': 61, '/upload/640534.svg': 60, '/upload/491298.png': 59, '/upload/764550.jpg': 58, '/upload/884356.webp': 58, '/upload/439013.svg': 57, '/upload/496726.webp': 57, '/upload/214467.svg': 56, '/upload/837143.jpeg': 56, '/upload/812124.svg': 55, '/upload/12014.svg': 51, '/upload/884959.png': 51, '/upload/134290.svg': 51, '/upload/748788.svg': 49, '/upload/325382.png': 47, '/upload/246124.png': 46, '/upload/996128.jpeg': 44, '/upload/882257.jpg': 42, '/upload/897481.jpeg': 41, '/upload/990288.png': 41, '/upload/344542.png': 38, '/upload/954119.jpg': 38, '/upload/178638.jpeg': 35, '/upload/901910.png': 35, '/upload/685337.svg': 35, '/upload/814035.png': 34, '/upload/401493.jpg': 34, '/upload/910163.jpg': 33, '/upload/63519.png': 32, '/upload/224868.jpeg': 32, '/upload/462892.webp': 31, '/upload/749301.svg': 31, '/upload/378936.webp': 31, '/upload/325304.jpg': 31, '/upload/274838.webp': 30, '/upload/276954.jpeg': 28, '/upload/550930.svg': 25})]\n"
     ]
    }
   ],
   "source": [
    "text_items = []\n",
    "text = [item['img'] for item in items]\n",
    "f1 = collections.Counter(text)\n",
    "text_items.append(f1)\n",
    "print(text_items)"
   ]
  },
  {
   "cell_type": "code",
   "execution_count": null,
   "id": "82026462",
   "metadata": {},
   "outputs": [],
   "source": []
  }
 ],
 "metadata": {
  "kernelspec": {
   "display_name": "Python 3 (ipykernel)",
   "language": "python",
   "name": "python3"
  },
  "language_info": {
   "codemirror_mode": {
    "name": "ipython",
    "version": 3
   },
   "file_extension": ".py",
   "mimetype": "text/x-python",
   "name": "python",
   "nbconvert_exporter": "python",
   "pygments_lexer": "ipython3",
   "version": "3.9.13"
  }
 },
 "nbformat": 4,
 "nbformat_minor": 5
}
