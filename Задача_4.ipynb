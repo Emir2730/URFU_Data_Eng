{
 "cells": [
  {
   "cell_type": "code",
   "execution_count": null,
   "id": "8d3a9ae2",
   "metadata": {},
   "outputs": [],
   "source": [
    "# Исследовать структуру xml-файлов, чтобы произвести парсинг всех данных. \n",
    "# В каждом файле содержится информация об одном или нескольких объектах из случайной предметной области. \n",
    "# Перечень всех характеристик объекта может меняться (у отдельного объекта могут отсутствовать некоторые характеристики). \n",
    "# Полученные данные собрать и записать в json. \n",
    "# Выполните также ряд операций с данными:\n",
    "# отсортируйте значения по одному из доступных полей\n",
    "# выполните фильтрацию по другому полю (запишите результат отдельно)\n",
    "# для одного выбранного числового поля посчитайте статистические характеристики (сумма, мин/макс, среднее и т.д.)\n",
    "# для одного текстового поля посчитайте частоту меток"
   ]
  },
  {
   "cell_type": "code",
   "execution_count": 1,
   "id": "aac9f58a",
   "metadata": {},
   "outputs": [],
   "source": [
    "from bs4 import BeautifulSoup\n",
    "import re\n",
    "import json\n",
    "import math\n",
    "import collections\n",
    "import pandas as pd\n",
    "import xml"
   ]
  },
  {
   "cell_type": "code",
   "execution_count": 2,
   "id": "057144f5",
   "metadata": {},
   "outputs": [],
   "source": [
    "def handle_file(file_name):\n",
    "    items = []\n",
    "    with open(file_name, encoding = 'utf-8') as file:\n",
    "        text = \"\"\n",
    "        for row in file.readlines():\n",
    "            text += row\n",
    "        root = BeautifulSoup(text, 'lxml')\n",
    "        for clothing in root.find_all(\"clothing\"):\n",
    "            item = {}\n",
    "            for i in clothing.contents:\n",
    "                if i.name is None:\n",
    "                    continue\n",
    "                elif i.name == \"price\" or i.name == \"reviews\":\n",
    "                    item[i.name] = int(i.get_text().strip())\n",
    "                elif i.name == \"price\" or i.name == \"rating\":\n",
    "                    item[i.name] = float(i.get_text().strip())\n",
    "                elif i.name == \"new\":\n",
    "                    item[i.name] = i.get_text().strip() == '+'\n",
    "                elif i.name == \"color\":\n",
    "                    item[i.name] = i.get_text().strip()\n",
    "                elif i.name == \"exclusive\" or i.name == \"sporty\":\n",
    "                    item[i.name] = i.get_text().strip() == 'yes'\n",
    "                else:\n",
    "                    item[i.name] = i.get_text().strip()\n",
    "            items.append(item)\n",
    "    return items"
   ]
  },
  {
   "cell_type": "code",
   "execution_count": 3,
   "id": "3fa9d0be",
   "metadata": {},
   "outputs": [
    {
     "name": "stderr",
     "output_type": "stream",
     "text": [
      "c:\\Users\\2emir\\anaconda3\\lib\\site-packages\\bs4\\builder\\__init__.py:545: XMLParsedAsHTMLWarning: It looks like you're parsing an XML document using an HTML parser. If this really is an HTML document (maybe it's XHTML?), you can ignore or filter this warning. If it's XML, you should know that using an XML parser will be more reliable. To parse this document as XML, make sure you have the lxml package installed, and pass the keyword argument `features=\"xml\"` into the BeautifulSoup constructor.\n",
      "  warnings.warn(\n"
     ]
    },
    {
     "name": "stdout",
     "output_type": "stream",
     "text": [
      "[{'id': '405032984', 'name': 'PleinSport Belts K-6816', 'category': 'Belts', 'size': 'XL', 'color': 'Желтый', 'material': 'Шелк', 'price': 443825, 'rating': 2.04, 'reviews': 682655, 'new': False, 'exclusive': True}]\n"
     ]
    }
   ],
   "source": [
    "items = []\n",
    "for i in range(1,101):\n",
    "  file_name = f'./4/{i}.xml'\n",
    "  result = handle_file(file_name)\n",
    "  items += result\n",
    "print(items[1:2])"
   ]
  },
  {
   "cell_type": "code",
   "execution_count": 4,
   "id": "668605ff",
   "metadata": {},
   "outputs": [],
   "source": [
    "with open('result_all_63_4.json', 'w', encoding = 'utf-8') as f:\n",
    "    f.write(json.dumps(items, ensure_ascii=False))"
   ]
  },
  {
   "cell_type": "markdown",
   "id": "3a77ae27",
   "metadata": {},
   "source": [
    "Сортировка значений по полю 'reviews' в убывающем порядке"
   ]
  },
  {
   "cell_type": "code",
   "execution_count": 5,
   "id": "a7c0d8b8",
   "metadata": {},
   "outputs": [
    {
     "name": "stdout",
     "output_type": "stream",
     "text": [
      "[{'id': '304024450', 'name': 'Reebok Gloves Z-2449', 'category': 'Gloves', 'size': 'S', 'color': 'Желтый', 'material': 'Нейлон', 'price': 520336, 'rating': 2.44, 'reviews': 998429, 'exclusive': False, 'sporty': True}, {'id': '711010335', 'name': 'Asics Skirt W-1564', 'category': 'Skirt', 'size': 'S', 'color': 'Красный', 'material': 'Шелк', 'price': 700111, 'rating': 1.33, 'reviews': 998394, 'new': False, 'sporty': False}, {'id': '790489005', 'name': 'Brooks Umbrellas N-5128', 'category': 'Umbrellas', 'size': 'M', 'color': 'Синий', 'material': 'Кожа', 'price': 976104, 'rating': 3.35, 'reviews': 998048, 'sporty': True}, {'id': '274038725', 'name': 'Vans Jeans C-2658', 'category': 'Jeans', 'size': 'XL', 'color': 'Фиолетовый', 'material': 'Полиэстер', 'price': 552209, 'rating': 3.27, 'reviews': 998013}]\n"
     ]
    }
   ],
   "source": [
    "items = sorted(items, key = lambda x: x['reviews'], reverse = True)\n",
    "print(items[1:5])"
   ]
  },
  {
   "cell_type": "markdown",
   "id": "88433706",
   "metadata": {},
   "source": [
    "Выполним фильтрацию по полю ['color']:"
   ]
  },
  {
   "cell_type": "code",
   "execution_count": 6,
   "id": "29130b66",
   "metadata": {},
   "outputs": [
    {
     "name": "stdout",
     "output_type": "stream",
     "text": [
      "[{'id': '342360081', 'name': 'Vans Jacket H-1824', 'category': 'Jacket', 'size': 'M', 'color': 'Красный', 'material': 'Лен', 'price': 449367, 'rating': 1.19, 'reviews': 996488, 'new': True}, {'id': '760424235', 'name': 'Asics Shoes B-2638', 'category': 'Shoes', 'size': 'XL', 'color': 'Красный', 'material': 'Хлопок', 'price': 741451, 'rating': 4.77, 'reviews': 994230, 'new': False, 'exclusive': False, 'sporty': False}, {'id': '476501377', 'name': 'Lacoste T-shirt B-4205', 'category': 'T-shirt', 'size': 'S', 'color': 'Красный', 'material': 'Хлопок', 'price': 354585, 'rating': 1.22, 'reviews': 991085, 'new': False, 'exclusive': False}, {'id': '879421859', 'name': 'Adidas Jeans Q-3425', 'category': 'Jeans', 'size': 'S', 'color': 'Красный', 'material': 'Шелк', 'price': 681205, 'rating': 1.03, 'reviews': 991067, 'exclusive': False, 'sporty': True}]\n"
     ]
    }
   ],
   "source": [
    "filtered_items = []\n",
    "for size in items:\n",
    "    if size['color'] == 'Красный':\n",
    "        filtered_items.append(size)\n",
    "print(filtered_items[1:5])     "
   ]
  },
  {
   "cell_type": "code",
   "execution_count": 7,
   "id": "c53cc6d4",
   "metadata": {},
   "outputs": [],
   "source": [
    "with open(\"result_filtered_63_4.json\", \"w\", encoding = 'utf-8') as file:\n",
    "    file.write(json.dumps(filtered_items, ensure_ascii=False))"
   ]
  },
  {
   "cell_type": "markdown",
   "id": "f31668d2",
   "metadata": {},
   "source": [
    "для числового поля ['rating'] посчитаем статистические характеристики (сумма, мин/макс, среднее и т.д.)"
   ]
  },
  {
   "cell_type": "code",
   "execution_count": 8,
   "id": "5a526921",
   "metadata": {},
   "outputs": [
    {
     "name": "stdout",
     "output_type": "stream",
     "text": [
      "[{'max': 5.0, 'min': 1.0, 'mean': 3.0180615942028965, 'median': 3.03, 'std': 1.1498265828129515}]\n"
     ]
    }
   ],
   "source": [
    "stats_items = []\n",
    "df = pd.DataFrame(items)\n",
    "pd.set_option('display.float_format', '{:.1f}'.format)\n",
    "stats = df['rating'].agg(['max', 'min', 'mean', 'median', 'std']).to_dict()\n",
    "stats_items.append(stats)\n",
    "print(stats_items)"
   ]
  },
  {
   "cell_type": "markdown",
   "id": "3f03ed24",
   "metadata": {},
   "source": [
    "для текстового поля ['size'] посчитайте частоту меток"
   ]
  },
  {
   "cell_type": "code",
   "execution_count": 9,
   "id": "da43abd5",
   "metadata": {},
   "outputs": [
    {
     "name": "stdout",
     "output_type": "stream",
     "text": [
      "[Counter({'L': 577, 'XL': 575, 'XXL': 564, 'S': 548, 'M': 496})]\n"
     ]
    }
   ],
   "source": [
    "text_items = []\n",
    "category = [item['size'] for item in items]\n",
    "f1 = collections.Counter(category)\n",
    "text_items.append(f1)\n",
    "print(text_items)"
   ]
  }
 ],
 "metadata": {
  "kernelspec": {
   "display_name": "Python 3 (ipykernel)",
   "language": "python",
   "name": "python3"
  },
  "language_info": {
   "codemirror_mode": {
    "name": "ipython",
    "version": 3
   },
   "file_extension": ".py",
   "mimetype": "text/x-python",
   "name": "python",
   "nbconvert_exporter": "python",
   "pygments_lexer": "ipython3",
   "version": "3.9.13"
  }
 },
 "nbformat": 4,
 "nbformat_minor": 5
}
